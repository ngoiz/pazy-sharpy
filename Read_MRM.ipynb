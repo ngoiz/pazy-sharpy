{
 "cells": [
  {
   "cell_type": "code",
   "execution_count": 417,
   "metadata": {},
   "outputs": [],
   "source": [
    "import numpy as np\n",
    "import matplotlib.pyplot as plt\n",
    "import matplotlib as mpl\n",
    "import scipy.stats as stats\n",
    "import re\n",
    "import scipy.io as scio\n",
    "import os\n",
    "mpl.rcParams['figure.dpi'] = 100\n",
    "mpl.rcParams['figure.figsize'] = (8, 6)\n",
    "%config InlineBackend.figure_format = 'retina'"
   ]
  },
  {
   "cell_type": "code",
   "execution_count": 126,
   "metadata": {},
   "outputs": [],
   "source": [
    "path_to_mrm = 'mrm_data/'\n",
    "path_to_aepw3 = '../pazy-aepw3-results/'"
   ]
  },
  {
   "cell_type": "code",
   "execution_count": 597,
   "metadata": {},
   "outputs": [],
   "source": [
    "file_names = {}\n",
    "file_names['0'] = {'mrm': 'AE results from MRM of UM beam model wing 1 WO skin updated',\n",
    "                  'results': 'mrm_umbeam_wo_skin'}\n",
    "file_names['1'] = {'mrm': 'AE results from MRM of UM beam model wing 1 W skin ea at 44',\n",
    "                  'results': 'mrm_umbeam_w_skin'}\n",
    "file_names['2'] = {'mrm': 'AE results from MRM of Nastran model wing 1',\n",
    "                  'results': 'mrm_nastran'}\n",
    "file_names['3'] = {'mrm': 'AE results from MRM of Nastran model wing 1 with weight',\n",
    "                  'results': 'mrm_nastran_te1'}\n",
    "file_names['4'] = {'mrm': 'AE results from MRM of UM beam model wing 1 W skin improved QHH',\n",
    "                  'results': 'mrm_umbeam_w_skin_qhh'}\n",
    "file_names['5'] = {'mrm': 'AE results from MRM of UM beam model wing 1 WO skin improved QHH',\n",
    "                  'results': 'mrm_umbeam_wo_skin_qhh'}\n",
    "file_names['6'] = {'mrm': 'AE results from MRM of UM beam model wing 1 WO skin refined',\n",
    "                  'results': 'mrm_umbeam_wo_skin_refined'}\n",
    "file_names['7'] = {'mrm': 'AE results from MRM of UM beam model wing 1 W skin refined',\n",
    "                  'results': 'mrm_umbeam_w_skin_refined'}\n",
    "file_names['8'] = {'mrm': 'torsion_test_W_skin',\n",
    "                   'results': 'torsion_mrm_umbeam_w_skin'}\n",
    "file_names['9'] = {'mrm': 'torsion_test_WO_skin',\n",
    "                   'results': 'torsion_mrm_umbeam_wo_skin'}\n",
    "file_names['10'] = {'mrm': 'bending_test_WO_skin',\n",
    "                   'results': 'bending_mrm_umbeam_wo_skin'}\n",
    "file_names['11'] = {'mrm': 'bending_test_W_skin',\n",
    "                   'results': 'bending_mrm_umbeam_w_skin'}\n",
    "file_names['12'] = {'mrm': 'Structural_Test_Torsion__UM_based_MRM',\n",
    "                   'results': 'torsion_mrm_umbeam_wo_skin'}\n",
    "file_names['13'] = {'mrm': 'follower_force_W_skin_UM_beam',\n",
    "                   'results': 'mrm_followerforce_skin1'}\n",
    "file_names['14'] = {'mrm': 'aeroelastic_analysis_W_skin_UM_beam',\n",
    "                   'results': 'mrm_umbeam_w_skin'}\n",
    "file_names['15'] = {'mrm': 'aeroelastic_analysis_WO_skin_UM_beam',\n",
    "                   'results': 'mrm_umbeam_wo_skin'}\n",
    "file_names['16'] = {'mrm': 'follower_force_WO_skin_UM_beam',\n",
    "                   'results': 'mrm_followerforce_skin0'}"
   ]
  },
  {
   "cell_type": "code",
   "execution_count": 598,
   "metadata": {},
   "outputs": [],
   "source": [
    "torsion_cases = [8, 9]\n",
    "bending_cases = [10, 11]\n",
    "followerforce_cases = [13, 16]\n",
    "aeroelastic_cases = [14, 15]"
   ]
  },
  {
   "cell_type": "code",
   "execution_count": 616,
   "metadata": {},
   "outputs": [],
   "source": [
    "mat = scio.loadmat(path_to_mrm + file_names['11']['mrm'] + '.mat')"
   ]
  },
  {
   "cell_type": "code",
   "execution_count": 617,
   "metadata": {},
   "outputs": [
    {
     "data": {
      "text/plain": [
       "dict_keys(['__header__', '__version__', '__globals__', 'Norberto_Struct_Analysis_Data', 'Norberto_Struct_Test_Data'])"
      ]
     },
     "execution_count": 617,
     "metadata": {},
     "output_type": "execute_result"
    }
   ],
   "source": [
    "mat.keys()"
   ]
  },
  {
   "cell_type": "code",
   "execution_count": 602,
   "metadata": {},
   "outputs": [
    {
     "name": "stdout",
     "output_type": "stream",
     "text": [
      "\n",
      "\n",
      "---------------------\n",
      "Key: __header__\n",
      "\n",
      "\n",
      "---------------------\n",
      "Key: __version__\n",
      "\n",
      "\n",
      "---------------------\n",
      "Key: __globals__\n",
      "\n",
      "\n",
      "---------------------\n",
      "Key: Norberto_Static_AE_Data\n",
      "Shape:  (21, 1)\n",
      "\n",
      "\n",
      "---------------------\n",
      "Key: Norberto_frequency_Data\n",
      "Shape:  (21, 4)\n",
      "\n",
      "\n",
      "---------------------\n",
      "Key: Norberto_frequency_Data_Direct\n",
      "Shape:  (21, 4)\n",
      "\n",
      "\n",
      "---------------------\n",
      "Key: Norberto_weight_data\n",
      "Shape:  (1, 21)\n",
      "\n",
      "\n",
      "---------------------\n",
      "Key: norberto_deformed_shape\n",
      "Shape:  (1, 750)\n"
     ]
    }
   ],
   "source": [
    "for k, v in mat.items():\n",
    "    print('\\n\\n---------------------')\n",
    "    print('Key:', k)\n",
    "    try:\n",
    "        print('Shape: ', v.shape)\n",
    "#         print(v)\n",
    "    except AttributeError:\n",
    "        pass"
   ]
  },
  {
   "cell_type": "markdown",
   "metadata": {},
   "source": [
    "# Bending"
   ]
  },
  {
   "cell_type": "code",
   "execution_count": 556,
   "metadata": {},
   "outputs": [],
   "source": [
    "def bending(mat, data_type):\n",
    "    if data_type == 'mrm':\n",
    "        load = mat['Norberto_Struct_Analysis_Data'][:, 0]\n",
    "        deflection = mat['Norberto_Struct_Analysis_Data'][:, 1]\n",
    "    else:\n",
    "        load = mat['Norberto_Struct_Test_Data'][:, 0]\n",
    "        deflection = mat['Norberto_Struct_Test_Data'][:, 1]\n",
    "    # modes_freq = mat['Norberto_frequency_Data']\n",
    "    return load, deflection"
   ]
  },
  {
   "cell_type": "code",
   "execution_count": 557,
   "metadata": {},
   "outputs": [
    {
     "name": "stdout",
     "output_type": "stream",
     "text": [
      "Processing bending_test_WO_skin\n",
      "Processing bending_test_W_skin\n"
     ]
    }
   ],
   "source": [
    "for file_num in bending_cases:\n",
    "    mat = scio.loadmat(path_to_mrm + '/' + file_names[str(file_num)]['mrm'] + '.mat')\n",
    "    print('Processing {:s}'.format(file_names[str(file_num)]['mrm']))\n",
    "    \n",
    "    load, deflection = bending(mat, 'mrm')\n",
    "    output_path = path_to_aepw3 + '/01_Bending/'\n",
    "    np.savetxt(output_path + file_names[str(file_num)]['results'] + '.txt', np.column_stack((load, deflection)))\n",
    "    \n",
    "    load, deflection = bending(mat, 'exp')\n",
    "    output_path = path_to_aepw3 + '/01_Bending/'\n",
    "    if '_w_skin' in file_names[str(file_num)]['results']:\n",
    "        filename = 'bending_technion_experimental_w_skin'\n",
    "    else:\n",
    "        filename = 'bending_technion_experimental_wo_skin'\n",
    "\n",
    "    np.savetxt(output_path + filename + '.txt', np.column_stack((load, deflection)))\n",
    "    \n",
    "#     modes_output = path_to_aepw3 + '/04_DeformedModal/'\n",
    "#     if not os.path.isdir(modes_output + '/' + file_names[str(file_num)]['results']):\n",
    "#         os.makedirs(modes_output + '/' + file_names[str(file_num)]['results'])\n",
    "    \n",
    "#     for i in range(modes_freq.shape[1]):\n",
    "#         np.savetxt(modes_output + '/' + file_names[str(file_num)]['results'] + '/mode_{:02g}.txt'.format(i),\n",
    "#                   np.column_stack((load, deflection, modes_freq[:, i] * 2 * np.pi)))"
   ]
  },
  {
   "cell_type": "markdown",
   "metadata": {},
   "source": [
    "# Torsion"
   ]
  },
  {
   "cell_type": "code",
   "execution_count": 565,
   "metadata": {},
   "outputs": [],
   "source": [
    "def torsion(mat, data_type):\n",
    "    if data_type == 'mrm':\n",
    "        load = mat['Norberto_Struct_Analysis_Data'][:, 0]\n",
    "        deflection = mat['Norberto_Struct_Analysis_Data'][:, 1]\n",
    "        angle = mat['Norberto_Struct_Analysis_Data'][:, 2]\n",
    "    else:\n",
    "        load = mat['Norberto_Struct_Test_Data'][:, 0]\n",
    "        deflection = mat['Norberto_Struct_Test_Data'][:, 1]\n",
    "        angle = mat['Norberto_Struct_Test_Data'][:, 2]\n",
    "\n",
    "\n",
    "    # modes_freq = mat['Norberto_frequency_Data']\n",
    "    return load, deflection, angle"
   ]
  },
  {
   "cell_type": "code",
   "execution_count": 567,
   "metadata": {},
   "outputs": [
    {
     "name": "stdout",
     "output_type": "stream",
     "text": [
      "Processing torsion_test_W_skin\n",
      "Processing torsion_test_WO_skin\n"
     ]
    }
   ],
   "source": [
    "for file_num in torsion_cases:\n",
    "    mat = scio.loadmat(path_to_mrm + '/' + file_names[str(file_num)]['mrm'] + '.mat')\n",
    "    print('Processing {:s}'.format(file_names[str(file_num)]['mrm']))\n",
    "    \n",
    "    load, deflection, angle = torsion(mat, 'mrm')\n",
    "    output_path = path_to_aepw3 + '/02_Torsion/'\n",
    "    np.savetxt(output_path + file_names[str(file_num)]['results'] + '.txt', np.column_stack((load, deflection, angle)))\n",
    "    \n",
    "    load, deflection, angle = torsion(mat, 'exp')\n",
    "    if '_w_skin' in file_names[str(file_num)]['results']:\n",
    "        filename = 'torsion_technion_experimental_w_skin'\n",
    "    else:\n",
    "        filename = 'torsion_technion_experimental_wo_skin'\n",
    "\n",
    "    np.savetxt(output_path + filename + '.txt', np.column_stack((load, deflection, angle)))"
   ]
  },
  {
   "cell_type": "markdown",
   "metadata": {},
   "source": [
    "# Follower Force\n",
    "\n",
    "WIP - few things to check before"
   ]
  },
  {
   "cell_type": "code",
   "execution_count": 614,
   "metadata": {},
   "outputs": [],
   "source": [
    "def follower_force(mat, direct=False):\n",
    "    load = mat['Norberto_weight_data']\n",
    "    mode_data = []\n",
    "    n_modes = mat['Norberto_frequency_Data'].shape[1]\n",
    "    \n",
    "    for i_mode in range(n_modes):\n",
    "        if direct:\n",
    "            freq = mat['Norberto_frequency_Data_Direct'][:, i_mode]\n",
    "        else:\n",
    "            freq = mat['Norberto_frequency_Data'][:, i_mode]\n",
    "        data = np.column_stack((load.T * 9.81, mat['Norberto_Static_AE_Data'], freq * 2 * np.pi))\n",
    "        mode_data.append(data)\n",
    "        \n",
    "    return mode_data"
   ]
  },
  {
   "cell_type": "code",
   "execution_count": 615,
   "metadata": {},
   "outputs": [
    {
     "name": "stdout",
     "output_type": "stream",
     "text": [
      "Processing follower_force_W_skin_UM_beam\n",
      "Processing follower_force_WO_skin_UM_beam\n"
     ]
    }
   ],
   "source": [
    "for file_num in followerforce_cases:\n",
    "    mat = scio.loadmat(path_to_mrm + '/' + file_names[str(file_num)]['mrm'] + '.mat')\n",
    "    print('Processing {:s}'.format(file_names[str(file_num)]['mrm']))\n",
    "    \n",
    "    # Modal approach\n",
    "    mode_data = follower_force(mat)\n",
    "    output_path = path_to_aepw3 + '/04_DeformedModal/' + '/' + file_names[str(file_num)]['results']\n",
    "    os.makedirs(output_path, exist_ok=True)\n",
    "    for i_mode in range(len(mode_data)):\n",
    "        np.savetxt(output_path + '/mode_{:02g}.txt'.format(i_mode), mode_data[i_mode])\n",
    "    \n",
    "    # Direct\n",
    "    mode_data = follower_force(mat, direct=True)\n",
    "    output_path = path_to_aepw3 + '/04_DeformedModal/' + '/' + file_names[str(file_num)]['results'] + '_direct'\n",
    "    os.makedirs(output_path, exist_ok=True)\n",
    "    for i_mode in range(len(mode_data)):\n",
    "        np.savetxt(output_path + '/mode_{:02g}.txt'.format(i_mode), mode_data[i_mode])"
   ]
  },
  {
   "cell_type": "code",
   "execution_count": 443,
   "metadata": {},
   "outputs": [
    {
     "name": "stdout",
     "output_type": "stream",
     "text": [
      "Length k 24\n"
     ]
    }
   ],
   "source": [
    "k_vec = np.array([0, 0.0200000000000000, 0.0300000000000000, 0.0400000000000000, 0.0500000000000000, 0.0600000000000000, 0.0700000000000000, 0.100000000000000,\n",
    "                  0.120000000000000, 0.125000000000000, 0.130000000000000, 0.140000000000000, 0.150000000000000, 0.200000000000000, 0.250000000000000,\n",
    "                  0.300000000000000, 0.400000000000000, 0.500000000000000, 0.600000000000000, 0.700000000000000, 0.800000000000000, 0.900000000000000, 1, 1.50000000000000])\n",
    "\n",
    "print('Length k', len(k_vec))"
   ]
  },
  {
   "cell_type": "code",
   "execution_count": 422,
   "metadata": {},
   "outputs": [],
   "source": [
    "def frequency(mat, i_aoa):\n",
    "    vels = []\n",
    "    freqs = []\n",
    "    for i in range(4):\n",
    "#         plt.scatter(mat['Norberto_Vel_Data'][:, 0], mat['Norberto_frequency_Data'][:, i, 0])\n",
    "        vels.append(mat['Norberto_Vel_Data'][:, 0].astype(float))\n",
    "        freqs.append(mat['Norberto_frequency_Data'][:, i, i_aoa])\n",
    "    vels = np.concatenate(vels)\n",
    "    freqs = np.concatenate(freqs)\n",
    "    order = np.argsort(vels)\n",
    "    vels = np.array([vels[i] for i in order])\n",
    "    freqs = np.array([freqs[i] for i in order])\n",
    "#     print(vels)\n",
    "#     print(freqs)\n",
    "#     plt.scatter(vels, freqs)\n",
    "    return vels, freqs"
   ]
  },
  {
   "cell_type": "code",
   "execution_count": 423,
   "metadata": {},
   "outputs": [
    {
     "data": {
      "text/plain": [
       "<matplotlib.collections.PathCollection at 0x7f63a5e87b10>"
      ]
     },
     "execution_count": 423,
     "metadata": {},
     "output_type": "execute_result"
    },
    {
     "data": {
      "image/png": "[encoded data removed]",
      "text/plain": [
       "<Figure size 800x600 with 1 Axes>"
      ]
     },
     "metadata": {
      "image/png": {
       "height": 496,
       "width": 667
      },
      "needs_background": "light"
     },
     "output_type": "display_data"
    }
   ],
   "source": [
    "plt.scatter(*frequency(mat, 0))\n",
    "plt.scatter(*frequency(mat, 1))"
   ]
  },
  {
   "cell_type": "code",
   "execution_count": 581,
   "metadata": {},
   "outputs": [],
   "source": [
    "def static_deflection_speed(mat, i_aoa):\n",
    "    vels = mat['Norberto_Vel_Data'][:, 0].astype(float)\n",
    "    deflection = mat['Norberto_Static_AE_Data'][:, i_aoa]\n",
    "\n",
    "    return vels, deflection"
   ]
  },
  {
   "cell_type": "code",
   "execution_count": 582,
   "metadata": {},
   "outputs": [],
   "source": [
    "def matched_flutter(mat, i_aoa):\n",
    "    if i_aoa is not None:\n",
    "        deflection = mat['Norberto_Static_AE_Data'][:, i_aoa]\n",
    "        vels = mat['Norberto_Vel_Data'][:, 0].astype(float)\n",
    "        flutter_speed = mat['Norberto_vf_mached_Data'][0, i_aoa+1]\n",
    "        deflection_at_vf = np.interp(flutter_speed, vels, deflection)\n",
    "    \n",
    "        return flutter_speed, deflection_at_vf\n",
    "    else:\n",
    "        return mat['Norberto_vf_mached_Data'][0, 0], 0"
   ]
  },
  {
   "cell_type": "code",
   "execution_count": 583,
   "metadata": {},
   "outputs": [],
   "source": [
    "def nonmatched_flutter(mat, i_aoa):\n",
    "    deflection = mat['Norberto_Static_AE_Data'][:, i_aoa]\n",
    "    vels = mat['Norberto_Vel_Data'][:, 0].astype(float)\n",
    "    flutter_speed = mat['Norberto_nonmached_flutter_Data'][:, 0, i_aoa]\n",
    "#     deflection_at_vf = np.interp(flutter_speed, vels, deflection)\n",
    "    return deflection, flutter_speed"
   ]
  },
  {
   "cell_type": "code",
   "execution_count": 584,
   "metadata": {},
   "outputs": [],
   "source": [
    "def aero_freqresp(mat, aoa, i_aoa, path):\n",
    "    mlist = [1, 2, 3]\n",
    "    plist = [1, 2, 3]\n",
    "    vels = mat['Norberto_Vel_Data'][:, 0].astype(float)\n",
    "    \n",
    "    for i_vel, vel in enumerate(vels):\n",
    "        # print(vel)\n",
    "        file_path = path + '_uinf{:04g}_alpha{:04g}'.format(vel * 10, aoa* 100)\n",
    "        os.makedirs(file_path, exist_ok=True)\n",
    "        for i_p, p in enumerate(plist):\n",
    "            for i_m, m in enumerate(mlist):\n",
    "                try:\n",
    "                    raw_freq = mat['Norberto_Qhh{:g}{:g}_data'.format(p, m)]\n",
    "                except KeyError:\n",
    "#                     raw_freq = mat['Norberto_Qhh{:g}{:g}_data_eigen_coords'.format(p, m)]\n",
    "                    raw_freq = mat['Norberto_Qhh{:g}{:g}_data_constnt_modes'.format(p, m)]\n",
    "\n",
    "\n",
    "\n",
    "                np.savetxt(file_path + '/in{:02g}_out{:02g}.txt'.format(i_p, i_m), np.column_stack((k_vec, raw_freq[:, i_vel, i_aoa].real, raw_freq[:, i_vel, i_aoa].imag)))\n"
   ]
  },
  {
   "cell_type": "code",
   "execution_count": 585,
   "metadata": {},
   "outputs": [
    {
     "data": {
      "text/plain": [
       "<matplotlib.collections.PathCollection at 0x7f63a5349dd0>"
      ]
     },
     "execution_count": 585,
     "metadata": {},
     "output_type": "execute_result"
    },
    {
     "data": {
      "image/png": "[encoded data removed]",
      "text/plain": [
       "<Figure size 800x600 with 1 Axes>"
      ]
     },
     "metadata": {
      "image/png": {
       "height": 496,
       "width": 667
      },
      "needs_background": "light"
     },
     "output_type": "display_data"
    }
   ],
   "source": [
    "plt.scatter(*nonmatched_flutter(mat, 0))\n",
    "plt.scatter(*nonmatched_flutter(mat, 1))"
   ]
  },
  {
   "cell_type": "markdown",
   "metadata": {},
   "source": [
    "# Save in AEPW3 - Aeroelastic Cases"
   ]
  },
  {
   "cell_type": "code",
   "execution_count": 586,
   "metadata": {},
   "outputs": [
    {
     "name": "stdout",
     "output_type": "stream",
     "text": [
      "Processing aeroelastic_analysis_W_skin_UM_beam\n",
      "Processing aeroelastic_analysis_WO_skin_UM_beam\n"
     ]
    }
   ],
   "source": [
    "\n",
    "for i in aeroelastic_cases: #len(file_names)):\n",
    "    \n",
    "    if not os.path.isdir(path_to_aepw3 + '/06_DeformedWingFlutter/' + file_names[str(i)]['results']):\n",
    "        os.makedirs(path_to_aepw3 + '/06_DeformedWingFlutter/' + file_names[str(i)]['results'])\n",
    "    \n",
    "    mat = scio.loadmat(path_to_mrm + '/' + file_names[str(i)]['mrm'] + '.mat')\n",
    "    print('Processing {:s}'.format(file_names[str(i)]['mrm']))\n",
    "    aoa = [5., 7.]\n",
    "    for i_aoa in range(len(aoa)):\n",
    "        # VELOCITY FREQUENCY\n",
    "        vels, freq = frequency(mat, i_aoa)\n",
    "        np.savetxt(path_to_aepw3 + '/06_DeformedWingFlutter/' + file_names[str(i)]['results'] + '/velocity_frequency_alpha{:04g}.txt'.format(aoa[i_aoa] * 100),\n",
    "                  np.column_stack((vels, freq)))\n",
    "        \n",
    "        # STATIC DEFLECTION SPEED\n",
    "        vels, deflection = static_deflection_speed(mat, i_aoa)\n",
    "        np.savetxt(path_to_aepw3 + '/03_StaticAeroelastic/' + file_names[str(i)]['results'] + '_alpha{:04g}.txt'.format(aoa[i_aoa] * 100),\n",
    "                  np.column_stack((vels, deflection)))\n",
    "        \n",
    "        # DEFORMED FLUTTER\n",
    "        vf, deflection = matched_flutter(mat, i_aoa)\n",
    "        np.savetxt(path_to_aepw3 + '/06_DeformedWingFlutter/' + file_names[str(i)]['results'] + '/flutter_speeds_alpha{:04g}.txt'.format(aoa[i_aoa] * 100),\n",
    "                  np.column_stack((vf, deflection)))\n",
    "        \n",
    "        # NONMATCHED FLUTTER\n",
    "        deflection, vf = nonmatched_flutter(mat, i_aoa)\n",
    "        np.savetxt(path_to_aepw3 + '/06_DeformedWingFlutter/' + file_names[str(i)]['results'] + '/nonmatched_flutter_speeds_alpha{:04g}.txt'.format(aoa[i_aoa] * 100),\n",
    "                  np.column_stack((deflection / 0.55, vf)))\n",
    "        \n",
    "#         # AERO FREQRESP\n",
    "#         path = './06_LinUVLM/output/postprocess/{:s}'.format(file_names[str(i)]['results'])\n",
    "#         try:\n",
    "#             aero_freqresp(mat, aoa[i_aoa], i_aoa, path)\n",
    "#         except KeyError:\n",
    "#             pass\n",
    "    # STRAIGHT WING FLUTTER\n",
    "    vf, deflection = matched_flutter(mat, None)\n",
    "    np.savetxt(path_to_aepw3 + '/06_DeformedWingFlutter/' + file_names[str(i)]['results'] + '/flutter_speeds_alpha{:04g}.txt'.format(0.),\n",
    "              np.column_stack((vf, deflection)))"
   ]
  },
  {
   "cell_type": "code",
   "execution_count": 471,
   "metadata": {},
   "outputs": [
    {
     "name": "stdout",
     "output_type": "stream",
     "text": [
      "0.0\n",
      "1.0\n",
      "5.0\n",
      "10.0\n",
      "15.0\n",
      "20.0\n",
      "25.0\n",
      "30.0\n",
      "35.0\n",
      "40.0\n",
      "45.0\n",
      "50.0\n",
      "55.0\n",
      "60.0\n",
      "0.0\n",
      "1.0\n",
      "5.0\n",
      "10.0\n",
      "15.0\n",
      "20.0\n",
      "25.0\n",
      "30.0\n",
      "35.0\n",
      "40.0\n",
      "45.0\n",
      "50.0\n",
      "55.0\n",
      "60.0\n",
      "0.0\n",
      "1.0\n",
      "5.0\n",
      "10.0\n",
      "15.0\n",
      "20.0\n",
      "25.0\n",
      "30.0\n",
      "35.0\n",
      "40.0\n",
      "45.0\n",
      "50.0\n",
      "55.0\n",
      "60.0\n",
      "0.0\n",
      "1.0\n",
      "5.0\n",
      "10.0\n",
      "15.0\n",
      "20.0\n",
      "25.0\n",
      "30.0\n",
      "35.0\n",
      "40.0\n",
      "45.0\n",
      "50.0\n",
      "55.0\n",
      "60.0\n"
     ]
    }
   ],
   "source": [
    "import os\n",
    "for i in range(len(file_names)-2, len(file_names)):\n",
    "    \n",
    "    if not os.path.isdir(path_to_aepw3 + '/06_DeformedWingFlutter/' + file_names[str(i)]['results']):\n",
    "        os.makedirs(path_to_aepw3 + '/06_DeformedWingFlutter/' + file_names[str(i)]['results'])\n",
    "    \n",
    "    mat = scio.loadmat(path_to_mrm + '/' + file_names[str(i)]['mrm'] + '.mat')\n",
    "    aoa = [5., 7.]\n",
    "    for i_aoa in range(2):\n",
    "        # AERO FREQRESP\n",
    "        path = './06_LinUVLM/output/postprocess/{:s}'.format(file_names[str(i)]['results'])\n",
    "        try:\n",
    "            aero_freqresp(mat, aoa[i_aoa], i_aoa, path)\n",
    "        except KeyError:\n",
    "            pass"
   ]
  },
  {
   "cell_type": "code",
   "execution_count": null,
   "metadata": {},
   "outputs": [],
   "source": []
  }
 ],
 "metadata": {
  "kernelspec": {
   "display_name": "Python 3",
   "language": "python",
   "name": "python3"
  },
  "language_info": {
   "codemirror_mode": {
    "name": "ipython",
    "version": 3
   },
   "file_extension": ".py",
   "mimetype": "text/x-python",
   "name": "python",
   "nbconvert_exporter": "python",
   "pygments_lexer": "ipython3",
   "version": "3.7.5"
  }
 },
 "nbformat": 4,
 "nbformat_minor": 4
}
